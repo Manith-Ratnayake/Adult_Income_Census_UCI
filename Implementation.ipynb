{
  "nbformat": 4,
  "nbformat_minor": 0,
  "metadata": {
    "colab": {
      "provenance": [],
      "mount_file_id": "1eIMyQgwmnq6eSC6hF3pLA0Dc98WSoINg",
      "authorship_tag": "ABX9TyOMKsgw5fs3+8KymkD76QfB",
      "include_colab_link": true
    },
    "kernelspec": {
      "name": "python3",
      "display_name": "Python 3"
    },
    "language_info": {
      "name": "python"
    },
    "accelerator": "TPU"
  },
  "cells": [
    {
      "cell_type": "markdown",
      "metadata": {
        "id": "view-in-github",
        "colab_type": "text"
      },
      "source": [
        "<a href=\"https://colab.research.google.com/github/Manith-Ratnayake/Machine_Learning/blob/main/Implementation.ipynb\" target=\"_parent\"><img src=\"https://colab.research.google.com/assets/colab-badge.svg\" alt=\"Open In Colab\"/></a>"
      ]
    },
    {
      "cell_type": "markdown",
      "source": [
        "### Google Drive"
      ],
      "metadata": {
        "id": "qi4nzm-UbvwX"
      }
    },
    {
      "cell_type": "code",
      "execution_count": 1,
      "metadata": {
        "colab": {
          "base_uri": "https://localhost:8080/"
        },
        "id": "jFdps_gXaqve",
        "outputId": "72c9da04-36e6-4998-8158-9321a6f97c70"
      },
      "outputs": [
        {
          "output_type": "stream",
          "name": "stdout",
          "text": [
            "Drive already mounted at /content/drive; to attempt to forcibly remount, call drive.mount(\"/content/drive\", force_remount=True).\n"
          ]
        }
      ],
      "source": [
        "from google.colab import drive\n",
        "drive.mount('/content/drive')"
      ]
    },
    {
      "cell_type": "code",
      "source": [
        "file_paths = [\n",
        "    '/content/drive/My Drive/Machine Learning/old.adult.names',\n",
        "    '/content/drive/My Drive/Machine Learning/Index',\n",
        "    '/content/drive/My Drive/Machine Learning/adult.test',\n",
        "    '/content/drive/My Drive/Machine Learning/adult.names',\n",
        "    '/content/drive/My Drive/Machine Learning/adult.data'\n",
        "]\n",
        "\n",
        "for file_path in file_paths:\n",
        "    with open(file_path, 'r') as file:\n",
        "        content = file.read()\n",
        "        print(f\"Content of {file_path}: successful\")\n"
      ],
      "metadata": {
        "colab": {
          "base_uri": "https://localhost:8080/"
        },
        "id": "03oOV8bhdx_2",
        "outputId": "5d2d5faa-1cd3-41c2-ec66-4b9ce20e4504"
      },
      "execution_count": 23,
      "outputs": [
        {
          "output_type": "stream",
          "name": "stdout",
          "text": [
            "Content of /content/drive/My Drive/Machine Learning/old.adult.names: successful\n",
            "Content of /content/drive/My Drive/Machine Learning/Index: successful\n",
            "Content of /content/drive/My Drive/Machine Learning/adult.test: successful\n",
            "Content of /content/drive/My Drive/Machine Learning/adult.names: successful\n",
            "Content of /content/drive/My Drive/Machine Learning/adult.data: successful\n"
          ]
        }
      ]
    },
    {
      "cell_type": "markdown",
      "source": [
        "### File Reading"
      ],
      "metadata": {
        "id": "oLJ-am5qb2e_"
      }
    },
    {
      "cell_type": "code",
      "source": [
        "import pandas as pd\n",
        "\n",
        "# Replace 'adult.data' with the actual path to your file if it's not in the working directory\n",
        "file_path = '/content/drive/My Drive/Machine Learning/adult.data'\n",
        "file_data = pd.read_csv(file_path, delimiter=',', header=None)  # Adjust delimiter as necessary\n",
        "\n",
        "# Since the file may not contain headers, you might need to manually specify them\n",
        "column_names = ['age', 'workclass', 'fnlwgt', 'education', 'education-num', 'marital-status',\n",
        "                'occupation', 'relationship', 'race', 'sex', 'capital-gain', 'capital-loss',\n",
        "                'hours-per-week', 'native-country', 'income']\n",
        "file_data.columns = column_names"
      ],
      "metadata": {
        "id": "s9vv_Cz7b1kX"
      },
      "execution_count": 25,
      "outputs": []
    },
    {
      "cell_type": "code",
      "source": [
        "# Checking the first few rows\n",
        "print(file_data.head())\n",
        "\n",
        "# Summarize statistics for numerical features\n",
        "print(file_data.describe())\n",
        "\n",
        "# Distribution of the target variable\n",
        "print(file_data['income'].value_counts())"
      ],
      "metadata": {
        "colab": {
          "base_uri": "https://localhost:8080/"
        },
        "id": "OM5cCE2Qb9X_",
        "outputId": "920662cf-b1ef-44ee-fffc-d22ce3c19e47"
      },
      "execution_count": 26,
      "outputs": [
        {
          "output_type": "stream",
          "name": "stdout",
          "text": [
            "   age          workclass  fnlwgt   education  education-num  \\\n",
            "0   39          State-gov   77516   Bachelors             13   \n",
            "1   50   Self-emp-not-inc   83311   Bachelors             13   \n",
            "2   38            Private  215646     HS-grad              9   \n",
            "3   53            Private  234721        11th              7   \n",
            "4   28            Private  338409   Bachelors             13   \n",
            "\n",
            "        marital-status          occupation    relationship    race      sex  \\\n",
            "0        Never-married        Adm-clerical   Not-in-family   White     Male   \n",
            "1   Married-civ-spouse     Exec-managerial         Husband   White     Male   \n",
            "2             Divorced   Handlers-cleaners   Not-in-family   White     Male   \n",
            "3   Married-civ-spouse   Handlers-cleaners         Husband   Black     Male   \n",
            "4   Married-civ-spouse      Prof-specialty            Wife   Black   Female   \n",
            "\n",
            "   capital-gain  capital-loss  hours-per-week  native-country  income  \n",
            "0          2174             0              40   United-States   <=50K  \n",
            "1             0             0              13   United-States   <=50K  \n",
            "2             0             0              40   United-States   <=50K  \n",
            "3             0             0              40   United-States   <=50K  \n",
            "4             0             0              40            Cuba   <=50K  \n",
            "                age        fnlwgt  education-num  capital-gain  capital-loss  \\\n",
            "count  32561.000000  3.256100e+04   32561.000000  32561.000000  32561.000000   \n",
            "mean      38.581647  1.897784e+05      10.080679   1077.648844     87.303830   \n",
            "std       13.640433  1.055500e+05       2.572720   7385.292085    402.960219   \n",
            "min       17.000000  1.228500e+04       1.000000      0.000000      0.000000   \n",
            "25%       28.000000  1.178270e+05       9.000000      0.000000      0.000000   \n",
            "50%       37.000000  1.783560e+05      10.000000      0.000000      0.000000   \n",
            "75%       48.000000  2.370510e+05      12.000000      0.000000      0.000000   \n",
            "max       90.000000  1.484705e+06      16.000000  99999.000000   4356.000000   \n",
            "\n",
            "       hours-per-week  \n",
            "count    32561.000000  \n",
            "mean        40.437456  \n",
            "std         12.347429  \n",
            "min          1.000000  \n",
            "25%         40.000000  \n",
            "50%         40.000000  \n",
            "75%         45.000000  \n",
            "max         99.000000  \n",
            " <=50K    24720\n",
            " >50K      7841\n",
            "Name: income, dtype: int64\n"
          ]
        }
      ]
    },
    {
      "cell_type": "code",
      "source": [
        "# Replace '?' with NaN and then check for missing values\n",
        "import numpy as np\n",
        "\n",
        "file_data = file_data.replace('?', np.nan)\n",
        "\n",
        "# Checking for missing values\n",
        "print(file_data.isnull().sum())"
      ],
      "metadata": {
        "colab": {
          "base_uri": "https://localhost:8080/"
        },
        "id": "urIwBGbKcAvf",
        "outputId": "5b5cd1bb-a7e3-4f48-bf80-404f46df2da2"
      },
      "execution_count": 27,
      "outputs": [
        {
          "output_type": "stream",
          "name": "stdout",
          "text": [
            "age               0\n",
            "workclass         0\n",
            "fnlwgt            0\n",
            "education         0\n",
            "education-num     0\n",
            "marital-status    0\n",
            "occupation        0\n",
            "relationship      0\n",
            "race              0\n",
            "sex               0\n",
            "capital-gain      0\n",
            "capital-loss      0\n",
            "hours-per-week    0\n",
            "native-country    0\n",
            "income            0\n",
            "dtype: int64\n"
          ]
        }
      ]
    },
    {
      "cell_type": "code",
      "source": [
        "from sklearn.preprocessing import OneHotEncoder\n",
        "\n",
        "# Assuming 'file_data' is your DataFrame and 'income' is the target variable\n",
        "categorical_cols = file_data.columns[file_data.dtypes==object].tolist()\n",
        "categorical_cols.remove('income')\n",
        "\n",
        "# Apply one-hot encoding with the updated parameter\n",
        "# Use 'sparse_output=False' if you're using scikit-learn 1.2 or newer.\n",
        "# This will ensure your code is forward-compatible.\n",
        "one_hot_encoder = OneHotEncoder(sparse_output=False)\n",
        "categorical_data_encoded = one_hot_encoder.fit_transform(file_data[categorical_cols])\n",
        "\n",
        "# Convert to DataFrame and add column names\n",
        "encoded_columns = one_hot_encoder.get_feature_names_out(categorical_cols)\n",
        "categorical_data_encoded_df = pd.DataFrame(categorical_data_encoded, columns=encoded_columns)\n",
        "\n",
        "# Drop original categorical columns and concat encoded columns\n",
        "file_data = file_data.drop(categorical_cols, axis=1).reset_index(drop=True)\n",
        "file_data_encoded = pd.concat([file_data, categorical_data_encoded_df], axis=1)\n"
      ],
      "metadata": {
        "id": "65Ni9DwscBRQ"
      },
      "execution_count": 29,
      "outputs": []
    },
    {
      "cell_type": "code",
      "source": [
        "from sklearn.model_selection import train_test_split\n",
        "\n",
        "X = file_data_encoded.drop('income', axis=1)\n",
        "y = file_data_encoded['income'].apply(lambda x: 1 if x == '>50K' else 0)  # Encoding the target variable\n",
        "\n",
        "X_train, X_test, y_train, y_test = train_test_split(X, y, test_size=0.2, random_state=42)"
      ],
      "metadata": {
        "id": "TTjqon2ncDR_"
      },
      "execution_count": 30,
      "outputs": []
    },
    {
      "cell_type": "code",
      "source": [
        "from sklearn.naive_bayes import GaussianNB\n",
        "from sklearn.metrics import accuracy_score, classification_report\n",
        "\n",
        "naive_base_model = GaussianNB()\n",
        "naive_base_model.fit(X_train, y_train)\n",
        "naive_base_predictions = naive_base_model.predict(X_test)\n",
        "\n",
        "print(f'Naïve Bayes Accuracy: {accuracy_score(y_test, naive_base_predictions)}')\n",
        "print(classification_report(y_test, naive_base_predictions))"
      ],
      "metadata": {
        "colab": {
          "base_uri": "https://localhost:8080/"
        },
        "id": "ta_OC_6NcFFH",
        "outputId": "ef074222-ef48-41b9-cee7-878a9b489b94"
      },
      "execution_count": 31,
      "outputs": [
        {
          "output_type": "stream",
          "name": "stdout",
          "text": [
            "Naïve Bayes Accuracy: 1.0\n",
            "              precision    recall  f1-score   support\n",
            "\n",
            "           0       1.00      1.00      1.00      6513\n",
            "\n",
            "    accuracy                           1.00      6513\n",
            "   macro avg       1.00      1.00      1.00      6513\n",
            "weighted avg       1.00      1.00      1.00      6513\n",
            "\n"
          ]
        }
      ]
    },
    {
      "cell_type": "code",
      "source": [
        "from sklearn.ensemble import RandomForestClassifier\n",
        "\n",
        "random_forest_model = RandomForestClassifier(n_estimators=100, random_state=42)\n",
        "random_forest_model.fit(X_train, y_train)\n",
        "random_forest_model_predictions = random_forest_model.predict(X_test)\n",
        "\n",
        "print(f'Random Forest Accuracy: {accuracy_score(y_test, random_forest_model_predictions)}')\n",
        "print(classification_report(y_test, random_forest_model_predictions))"
      ],
      "metadata": {
        "colab": {
          "base_uri": "https://localhost:8080/"
        },
        "id": "yTqx3wgccGiH",
        "outputId": "2f7a2b92-e657-45ab-86d6-333c85fc3958"
      },
      "execution_count": 32,
      "outputs": [
        {
          "output_type": "stream",
          "name": "stdout",
          "text": [
            "Random Forest Accuracy: 1.0\n",
            "              precision    recall  f1-score   support\n",
            "\n",
            "           0       1.00      1.00      1.00      6513\n",
            "\n",
            "    accuracy                           1.00      6513\n",
            "   macro avg       1.00      1.00      1.00      6513\n",
            "weighted avg       1.00      1.00      1.00      6513\n",
            "\n"
          ]
        }
      ]
    },
    {
      "cell_type": "markdown",
      "source": [
        "### Evaluation Metrics"
      ],
      "metadata": {
        "id": "wZXtuUbef8xv"
      }
    },
    {
      "cell_type": "code",
      "source": [
        "from sklearn.metrics import accuracy_score, precision_score, recall_score, f1_score, roc_auc_score\n",
        "\n",
        "# Evaluation for Naïve Bayes\n",
        "naive_bayes_accuracy = accuracy_score(y_test, naive_base_predictions)\n",
        "naive_bayes_precision = precision_score(y_test, naive_base_predictions)\n",
        "naive_bayes_recall = recall_score(y_test, naive_base_predictions)\n",
        "naive_bayes_f1 = f1_score(y_test, naive_base_predictions)\n",
        "# naive_bayes_auc = roc_auc_score(y_test, naive_base_predictions)\n",
        "\n",
        "print(\"Naïve Bayes model Performance \\n\")\n",
        "print(f\"Accuracy: {naive_bayes_accuracy:.4f}\")\n",
        "print(f\"Precision: {naive_bayes_precision:.4f}\")\n",
        "print(f\"Recall: {naive_bayes_recall:.4f}\")\n",
        "print(f\"F1 Score: {naive_bayes_f1:.4f}\")\n",
        "# print(f\"AUC: {naive_bayes_auc:.4f}\\n\")"
      ],
      "metadata": {
        "colab": {
          "base_uri": "https://localhost:8080/"
        },
        "id": "7j1U6LIEcIBQ",
        "outputId": "37b3e80e-a4d7-4b73-a29b-07dbd262edf4"
      },
      "execution_count": 36,
      "outputs": [
        {
          "output_type": "stream",
          "name": "stdout",
          "text": [
            "Naïve Bayes Performance \n",
            "\n",
            "Accuracy: 1.0000\n",
            "Precision: 0.0000\n",
            "Recall: 0.0000\n",
            "F1 Score: 0.0000\n"
          ]
        },
        {
          "output_type": "stream",
          "name": "stderr",
          "text": [
            "/usr/local/lib/python3.10/dist-packages/sklearn/metrics/_classification.py:1344: UndefinedMetricWarning: Precision is ill-defined and being set to 0.0 due to no predicted samples. Use `zero_division` parameter to control this behavior.\n",
            "  _warn_prf(average, modifier, msg_start, len(result))\n",
            "/usr/local/lib/python3.10/dist-packages/sklearn/metrics/_classification.py:1344: UndefinedMetricWarning: Recall is ill-defined and being set to 0.0 due to no true samples. Use `zero_division` parameter to control this behavior.\n",
            "  _warn_prf(average, modifier, msg_start, len(result))\n",
            "/usr/local/lib/python3.10/dist-packages/sklearn/metrics/_classification.py:1609: UndefinedMetricWarning: F-score is ill-defined and being set to 0.0 due to no true nor predicted samples. Use `zero_division` parameter to control this behavior.\n",
            "  _warn_prf(average, \"true nor predicted\", \"F-score is\", len(true_sum))\n"
          ]
        }
      ]
    },
    {
      "cell_type": "code",
      "source": [
        "from sklearn.metrics import accuracy_score, precision_score, recall_score, f1_score, roc_auc_score\n",
        "\n",
        "# Evaluation for Random Forest\n",
        "random_forest_accuracy = accuracy_score(y_test, random_forest_model_predictions)\n",
        "random_forest_precision = precision_score(y_test, random_forest_model_predictions)\n",
        "random_forest_recall = recall_score(y_test, random_forest_model_predictions)\n",
        "random_forest_f1 = f1_score(y_test, random_forest_model_predictions)\n",
        "# random_forest_auc = roc_auc_score(y_test, random_forest_model_predictions)\n",
        "\n",
        "print(\"Random Forest model Performance \\n\")\n",
        "print(f\"Accuracy: {random_forest_accuracy:.4f}\")\n",
        "print(f\"Precision: {random_forest_precision:.4f}\")\n",
        "print(f\"Recall: {random_forest_recall:.4f}\")\n",
        "print(f\"F1 Score: {random_forest_f1:.4f}\")\n",
        "# print(f\"AUC: {random_forest_auc:.4f}\")"
      ],
      "metadata": {
        "colab": {
          "base_uri": "https://localhost:8080/"
        },
        "id": "dnpwU1HbgFyH",
        "outputId": "6fed01ee-eabe-4263-f881-8b0fc945454f"
      },
      "execution_count": 39,
      "outputs": [
        {
          "output_type": "stream",
          "name": "stdout",
          "text": [
            "Random Forest model Performance \n",
            "\n",
            "Accuracy: 1.0000\n",
            "Precision: 0.0000\n",
            "Recall: 0.0000\n",
            "F1 Score: 0.0000\n"
          ]
        },
        {
          "output_type": "stream",
          "name": "stderr",
          "text": [
            "/usr/local/lib/python3.10/dist-packages/sklearn/metrics/_classification.py:1344: UndefinedMetricWarning: Precision is ill-defined and being set to 0.0 due to no predicted samples. Use `zero_division` parameter to control this behavior.\n",
            "  _warn_prf(average, modifier, msg_start, len(result))\n",
            "/usr/local/lib/python3.10/dist-packages/sklearn/metrics/_classification.py:1344: UndefinedMetricWarning: Recall is ill-defined and being set to 0.0 due to no true samples. Use `zero_division` parameter to control this behavior.\n",
            "  _warn_prf(average, modifier, msg_start, len(result))\n",
            "/usr/local/lib/python3.10/dist-packages/sklearn/metrics/_classification.py:1609: UndefinedMetricWarning: F-score is ill-defined and being set to 0.0 due to no true nor predicted samples. Use `zero_division` parameter to control this behavior.\n",
            "  _warn_prf(average, \"true nor predicted\", \"F-score is\", len(true_sum))\n"
          ]
        }
      ]
    }
  ]
}